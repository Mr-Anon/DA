{
 "cells": [
  {
   "cell_type": "code",
   "execution_count": 9,
   "metadata": {
    "scrolled": false
   },
   "outputs": [
    {
     "name": "stdout",
     "output_type": "stream",
     "text": [
      "ERROR: Could not find file <ipython-input-9-a63c4a186a4d>\n",
      "NOTE: %mprun can only be used on functions defined in physical files, and not in the IPython environment.\n",
      "\n",
      "The dataset has 731 transactions with average 51.926128590971274 items per transaction.\n",
      "MINSUP: 500    TIME: 11.033791542053223 seconds\n"
     ]
    }
   ],
   "source": [
    "import time\n",
    "from memory_profiler import profile\n",
    "\n",
    "def prune(item,freq_itemsets):\n",
    "    for i in range(len(item)):\n",
    "        skip = item[:i]+item[i+1:]\n",
    "        if skip not in freq_itemsets:\n",
    "            return False\n",
    "    return True\n",
    "\n",
    "\n",
    "def aprioriGen(freq_itemsets):\n",
    "    nextCandidates=[]\n",
    "    for i in range(len(freq_itemsets)):\n",
    "        for j in range(i+1,len(freq_itemsets)):\n",
    "            lst = len(freq_itemsets[i])\n",
    "            temp = []\n",
    "            flag = True\n",
    "            for k in range(lst-1):\n",
    "                if freq_itemsets[i][k]==freq_itemsets[j][k]:\n",
    "                    temp.append(freq_itemsets[i][k])\n",
    "                else:\n",
    "                    flag = False\n",
    "                    break\n",
    "            if freq_itemsets[i][-1]>=freq_itemsets[j][-1]:\n",
    "                flag = False\n",
    "            temp = temp + [freq_itemsets[i][-1]] + [freq_itemsets[j][-1]]\n",
    "            if flag and prune(temp, freq_itemsets):\n",
    "                nextCandidates.append(temp)\n",
    "    return nextCandidates\n",
    "\n",
    "\n",
    "def hash_for_2_candidates(transactions, freq_itemsets, minSupport):\n",
    "    \n",
    "    new_items = []\n",
    "    counter = dict()\n",
    "    for i in transactions:\n",
    "        freq_t = []\n",
    "        for j in i:\n",
    "            if [j] in freq_itemsets:\n",
    "                freq_t.append(j)\n",
    "        for it1 in range(len(freq_t)):\n",
    "            for it2 in range(len(freq_t)):\n",
    "                if freq_t[it2]>freq_t[it1]:\n",
    "                    if (freq_t[it1], freq_t[it2]) not in counter:\n",
    "                        counter[(freq_t[it1], freq_t[it2])]=1\n",
    "                    else:\n",
    "                        counter[(freq_t[it1], freq_t[it2])] = counter[(freq_t[it1], freq_t[it2])] + 1\n",
    "    updated_items = []\n",
    "    for i in counter:\n",
    "        if counter[i]>=minSupport:\n",
    "            updated_items.append([i[0], i[1]])\n",
    "    return updated_items\n",
    "    \n",
    "    \n",
    "def update_items(dataset, candidates, minsup, mark):\n",
    "\n",
    "    counter = []\n",
    "    future_transactions = []\n",
    "    for i in range(len(candidates)):\n",
    "        counter.append(0)\n",
    "        future_transactions.append([])\n",
    "\n",
    "    for i in range(len(dataset)):\n",
    "        if mark[i]:\n",
    "            for j in range(len(candidates)):\n",
    "                if set(candidates[j]) <= set(dataset[i]):\n",
    "                    counter[j]+=1\n",
    "                    future_transactions[j].append(i)\n",
    "    new_mark = [False for i in dataset]\n",
    "    updated_items = []\n",
    "    for i in range(len(candidates)):\n",
    "        if counter[i]>=minsup:\n",
    "            updated_items.append(candidates[i])\n",
    "            for j in range(len(future_transactions[i])):\n",
    "                new_mark[future_transactions[i][j]] = True\n",
    "    return updated_items, new_mark\n",
    "\n",
    "\n",
    "def _all_one_itemset(data):\n",
    "    ans = []\n",
    "    for i in data:\n",
    "        ans = ans + i\n",
    "    ans = list(set(ans))\n",
    "    ans = [[i] for i in ans]\n",
    "    return ans\n",
    "\n",
    "\n",
    "def getData(filename):\n",
    "    with open(filename, 'r') as file:\n",
    "        data = file.read().replace('\\n', '')\n",
    "    file.close()\n",
    "    data = data.split('-2')\n",
    "    for i in range(len(data)):\n",
    "        data[i] = data[i].split('-1')\n",
    "        data[i] = data[i][:-1]\n",
    "        data[i] = list(map(int, data[i]))\n",
    "    sm=0\n",
    "    for i in data: sm = sm + len(i)\n",
    "    print(f'\\nThe dataset has {len(data)} transactions with average {sm/len(data)} items per transaction.')\n",
    "    return data\n",
    "\n",
    "@profile(precision=4)\n",
    "def func():\n",
    "    \n",
    "    dataset = getData('SIGN.txt')\n",
    "    all_one_itemset = _all_one_itemset(dataset)\n",
    "    #_minsup = [600, 550, 500, 450]\n",
    "    _minsup  = [500]\n",
    "    \n",
    "    bbgg = 0\n",
    "\n",
    "    for minsup in _minsup:\n",
    "\n",
    "        start_time = time.time()\n",
    "        mark = []\n",
    "        for i in range(len(dataset)):\n",
    "            mark.append(True)\n",
    "        frequent_itemset = dict()\n",
    "        frequent_itemset[1], mark = update_items(dataset, all_one_itemset, minsup, mark)\n",
    "        frequent_itemset[2] = hash_for_2_candidates(dataset, frequent_itemset[1], minsup)\n",
    "        candidates = frequent_itemset[2]\n",
    "        k=2\n",
    "        while candidates:\n",
    "            itemss = update_items(dataset, candidates, minsup, mark)\n",
    "            frequent_itemset[k] = itemss[0]\n",
    "            mark = itemss[1] \n",
    "            candidates = aprioriGen(frequent_itemset[k])\n",
    "            k = k+1\n",
    "        print(f'MINSUP: {minsup}    TIME: {time.time()-start_time} seconds')\n",
    "        \n",
    "#         # Uncomment these 3 lines to print the frequent itemsets\n",
    "#         res = []\n",
    "#         for i in frequent_itemset:\n",
    "#             res = res + frequent_itemset[i]\n",
    "#         print(res)\n"
   ]
  },
  {
   "cell_type": "code",
   "execution_count": 2,
   "metadata": {
    "scrolled": false
   },
   "outputs": [
    {
     "name": "stdout",
     "output_type": "stream",
     "text": [
      "MINSUP: 600    TIME: 0.02979302406311035 seconds\n",
      "MINSUP: 550    TIME: 0.020618438720703125 seconds\n",
      "MINSUP: 500    TIME: 0.026790142059326172 seconds\n",
      "MINSUP: 450    TIME: 0.04187417030334473 seconds\n"
     ]
    }
   ],
   "source": [
    "from apyori import apriori\n",
    "\n",
    "for minsup in _minsup:\n",
    "    start_time = time.time()\n",
    "    gg = apriori(dataset, min_support=minsup/len(dataset))\n",
    "    gg=list(gg)\n",
    "    print(f'MINSUP: {minsup}    TIME: {time.time()-start_time} seconds')"
   ]
  },
  {
   "cell_type": "code",
   "execution_count": 3,
   "metadata": {},
   "outputs": [
    {
     "name": "stdout",
     "output_type": "stream",
     "text": [
      "MINSUP: 600    TIME: 0.04645586013793945 seconds\n",
      "MINSUP: 550    TIME: 0.0950613021850586 seconds\n",
      "MINSUP: 500    TIME: 3.729372024536133 seconds\n",
      "MINSUP: 450    TIME: 7.99291205406189 seconds\n"
     ]
    }
   ],
   "source": [
    "from fpgrowth_py import fpgrowth\n",
    "\n",
    "for minsup in _minsup:\n",
    "    start_time = time.time()\n",
    "    freqItemSet, rules = fpgrowth(dataset, minSupRatio=minsup/len(dataset), minConf=0.0)\n",
    "    print(f'MINSUP: {minsup}    TIME: {time.time()-start_time} seconds')"
   ]
  },
  {
   "cell_type": "code",
   "execution_count": null,
   "metadata": {},
   "outputs": [],
   "source": []
  }
 ],
 "metadata": {
  "kernelspec": {
   "display_name": "Python 3",
   "language": "python",
   "name": "python3"
  },
  "language_info": {
   "codemirror_mode": {
    "name": "ipython",
    "version": 3
   },
   "file_extension": ".py",
   "mimetype": "text/x-python",
   "name": "python",
   "nbconvert_exporter": "python",
   "pygments_lexer": "ipython3",
   "version": "3.8.8"
  }
 },
 "nbformat": 4,
 "nbformat_minor": 4
}
